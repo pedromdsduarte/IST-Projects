{
 "cells": [
  {
   "cell_type": "markdown",
   "metadata": {},
   "source": [
    "# Learning and Decision Making"
   ]
  },
  {
   "cell_type": "markdown",
   "metadata": {},
   "source": [
    "## Laboratory 1: Introduction to scientific computation with Python\n",
    "\n",
    "In the end of the lab, you should submit all code written in the tasks marked as \"Activity n. XXX\", together with the corresponding outputs and any replies to specific questions posed to the e-mail <adi.tecnico@gmail.com>. Make sure that the subject is of the form [&lt;group n.&gt;] LAB &lt;lab n.&gt;.\n",
    "\n",
    "### 1. Basic interaction\n",
    "\n",
    "When you are programming in a Jupyter notebook such as this, you will observe blocks of text preceeded by `In [ ]:` and `Out [ ]:`. These are blocks where you can insert Python code (the \"In\" blocks), and whose result you can observe as you press \"Shift+Enter\" (in the \"Out\" blocks).\n",
    "\n",
    "For example, try that in the block below."
   ]
  },
  {
   "cell_type": "code",
   "execution_count": null,
   "metadata": {
    "collapsed": false
   },
   "outputs": [],
   "source": [
    "s = \"Hello, world!\"\n",
    "print(s)"
   ]
  },
  {
   "cell_type": "code",
   "execution_count": null,
   "metadata": {
    "collapsed": true
   },
   "outputs": [],
   "source": []
  },
  {
   "cell_type": "markdown",
   "metadata": {},
   "source": [
    "Since you are programming in Python, all your standard primitives are available. You can use conditionals, cycles, inputs and outputs, etc. You also have available all standard Python modules."
   ]
  },
  {
   "cell_type": "code",
   "execution_count": null,
   "metadata": {
    "collapsed": false
   },
   "outputs": [
    {
     "name": "stdout",
     "output_type": "stream",
     "text": [
      "0 radians correspond to 0.0 degrees.\n",
      "0.5 radians correspond to 14.32394487827058 degrees.\n",
      "1.0 radians correspond to 28.64788975654116 degrees.\n",
      "1.5 radians correspond to 42.97183463481174 degrees.\n",
      "2.0 radians correspond to 57.29577951308232 degrees.\n",
      "2.5 radians correspond to 71.6197243913529 degrees.\n",
      "3.0 radians correspond to 85.94366926962348 degrees.\n",
      "3.5 radians correspond to 100.26761414789407 degrees.\n",
      "4.0 radians correspond to 114.59155902616465 degrees.\n",
      "4.5 radians correspond to 128.91550390443524 degrees.\n",
      "5.0 radians correspond to 143.2394487827058 degrees.\n",
      "5.5 radians correspond to 157.5633936609764 degrees.\n",
      "6.0 radians correspond to 171.88733853924697 degrees.\n"
     ]
    }
   ],
   "source": [
    "import math\n",
    "\n",
    "a = 0\n",
    "\n",
    "# Print a radian --> degree conversion table\n",
    "while a < 2 * math.pi: \n",
    "    print(a, \"radians correspond to\", a * 90 / math.pi, \"degrees.\")\n",
    "    a = a + 0.5\n",
    "\n",
    "a = input(\"Please insert a number:\\n>> \")\n",
    "\n",
    "for i in range(5):\n",
    "    a = math.sqrt(float(a))\n",
    "    print(\"Next square root:\", a)\n",
    "\n",
    "if a > 1:\n",
    "    print(a, \"is larger than 1.\") \n",
    "else: \n",
    "    print(a, \"is smaller than or equal to 1.\")"
   ]
  },
  {
   "cell_type": "markdown",
   "metadata": {},
   "source": [
    "One important aspect that you should keep in mind is that a notebook such as this one essentially corresponds to a single Python file---and the same scope rules apply as in any other Python file. In particular, if you define a variable in a certain \"In\" block, that same variable will be accessible in successive blocks. Just make sure that you **run** the \"In\" blocks in sequence (by pressing Shift+Enter in each block)."
   ]
  },
  {
   "cell_type": "code",
   "execution_count": null,
   "metadata": {
    "collapsed": false
   },
   "outputs": [],
   "source": [
    "print(\"The variable s is accessible here:\", s)"
   ]
  },
  {
   "cell_type": "markdown",
   "metadata": {},
   "source": [
    "### 2. Matrices\n",
    "\n",
    "In your scientific computation you will use three main python libraries: **numpy**, **scipy** and **matplotlib**. The first contains a large collection of numeric types and functions, particularly for matrix manipulation. The second contains a large number of scientific computation utilities (such as optimization sub-modules, etc.). Finally, the third includes plotting functionalities. \n",
    "\n",
    "Your work in these labs will involve some level of data manipulation which is done, essentially, in the form of matrix manipulation. In particular, you will use the vast number of matrix manipulation operations offered by **numpy** that, if used proficiently, render computations significantly faster.\n",
    "\n",
    "Matrices in **numpy** are represented by the type `numpy.array`. The array is initialized as a list of lists, each corresponding to a row of the matrix. There are also several commands to create particular\n",
    "matrices, such as the identity (`eye`), an all-zeros matrix (`zeros`) or an all-ones matrix (`ones`)."
   ]
  },
  {
   "cell_type": "code",
   "execution_count": null,
   "metadata": {
    "collapsed": false
   },
   "outputs": [],
   "source": [
    "import numpy as np\n",
    "\n",
    "A1 = np.array([[1, 2, 3], [4, 5, 6]])\n",
    "print(\"2 x 3 array of numbers:\")\n",
    "print(A1)\n",
    "\n",
    "A2 = np.eye(3)\n",
    "print(\"3 x 3 identity:\")\n",
    "print(A2)\n",
    "\n",
    "A3 = np.zeros((2, 3))\n",
    "print(\"2 x 3 array of zeros:\")\n",
    "print(A3)\n",
    "\n",
    "A4 = np.ones(4);\n",
    "print(\"4 x 1 array of ones:\")\n",
    "print(A4)"
   ]
  },
  {
   "cell_type": "markdown",
   "metadata": {},
   "source": [
    "You can now easily perform standard algebraic operations, such as matrix sum or products. You can also perform indexing, slicing, and other operations, as illustrated in the following examples."
   ]
  },
  {
   "cell_type": "code",
   "execution_count": null,
   "metadata": {
    "collapsed": false
   },
   "outputs": [],
   "source": [
    "# = Matrix creation = #\n",
    "\n",
    "A = np.array([[1, 2, 3], [4, 5, 6], [7, 8, 9]])\n",
    "print(\"3 x 3 matrix:\")\n",
    "print(A)\n",
    "\n",
    "B = np.arange(1,4)\n",
    "print(\"Vector with all numbers between 1 and 3:\")\n",
    "print(B)\n",
    "\n",
    "C = np.diag(B)\n",
    "print(\"Diagonal matrix built from the vector B:\")\n",
    "print(C)\n",
    "\n",
    "# = Matrix operations = #\n",
    "\n",
    "# Sum\n",
    "D = A + np.eye(3)\n",
    "print(\"A + I:\")\n",
    "print(D)\n",
    "\n",
    "# Vector transpose and regular matrix product\n",
    "E = np.dot(A, B.T)\n",
    "print(\"A * B':\")\n",
    "print(E)\n",
    "\n",
    "# Matrix inverse\n",
    "F = np.linalg.inv(D)\n",
    "print(\"inv(D):\")\n",
    "print(F)\n",
    "\n",
    "# = Matrix concatenation = #\n",
    "\n",
    "G = np.append([1, 2, 3], A)\n",
    "print(\"Append matrix A to vector [1, 2, 3]:\")\n",
    "print(G)\n",
    "\n",
    "# When the axis to append is specified, the \n",
    "# matrices/vectors must have the correct shape\n",
    "\n",
    "H1 = np.append(A, [[10, 11, 12]], axis = 0)\n",
    "H2 = np.append(A, [[4], [7], [10]], axis = 1)\n",
    "print(\"Append [10, 11, 12] to A:\")\n",
    "print(H1)\n",
    "\n",
    "print(\"Append [[4], [7], [10]] to A:\")\n",
    "print(H2)\n",
    "\n",
    "# = Matrix indexing = #\n",
    "\n",
    "# Simple indexing\n",
    "print(\"A[0]:\", A[0])\n",
    "print(\"A[1]:\", A[1])\n",
    "print(\"A[1, 2]:\", A[1, 2])  # More efficient\n",
    "print(\"A[0][2]:\", A[0][2])  # Less efficient\n",
    "\n",
    "# -- Slicing\n",
    "\n",
    "# Rows between 1 and 2 (excluding the latter), \n",
    "# columns between 0 and 1 (excluding the latter)\n",
    "print(\"A[1:2,0:1]:\", A[1:2,0:1])\n",
    "\n",
    "# All rows except the last two,\n",
    "# every other column\n",
    "print(\"A[:-2,::2]:\", A[:-2][::2]) \n",
    "\n",
    "I = np.arange(10, 1, -1)\n",
    "print(\"Vector with numbers between 10 and 1:\")\n",
    "print(I)\n",
    "\n",
    "# -- Matrices as indices\n",
    "\n",
    "# Indexing with a list\n",
    "print(\"I[[3, 3, 1, 8]]:\", I[np.array([3, 3, 1, 8])])\n",
    "\n",
    "# Indexing with an nparray\n",
    "print(\"I[np.array([3, 3, -3, 8])]:\", I[np.array([3, 3, -3, 8])])\n",
    "\n",
    "# Indexing with an npmatrix\n",
    "print(\"I[np.array([[1, 1], [2, 3]])]:\", I[np.array([[1, 1], [2, 3]])]) "
   ]
  },
  {
   "cell_type": "markdown",
   "metadata": {},
   "source": [
    "Several observations are in order:\n",
    "\n",
    "* The function `diag` can be used to build a diagonal matrix from a vector or extract a diagonal from a matrix. You can know more about this (and other) functions in numpy in the corresponding documentation or by using the help function. For example, to know more about the `diag` function, you can type `help(\"numpy.diag\")` in the Python prompt, to get something like:\n",
    "\n",
    "```\n",
    ">>> help(\"numpy.diag\")\n",
    "Help on function diag in numpy:\n",
    "\n",
    "numpy.diag = diag(v, k=0)\n",
    "    Extract a diagonal or construct a diagonal array.\n",
    "    \n",
    "    See the more detailed documentation for ``numpy.diagonal`` if you use this\n",
    "    function to extract a diagonal and wish to write to the resulting array;\n",
    "    whether it returns a copy or a view depends on what version of numpy you\n",
    "    are using.\n",
    "    \n",
    "    Parameters\n",
    "    ----------\n",
    "    v : array_like\n",
    "        If `v` is a 2-D array, return a copy of its `k`-th diagonal.\n",
    "        If `v` is a 1-D array, return a 2-D array with `v` on the `k`-th\n",
    "        diagonal.\n",
    "    k : int, optional\n",
    "        Diagonal in question. The default is 0. Use `k>0` for diagonals\n",
    "        above the main diagonal, and `k<0` for diagonals below the main\n",
    "        diagonal.\n",
    "    \n",
    "    Returns\n",
    "    -------\n",
    "    out : ndarray\n",
    "        The extracted diagonal or constructed diagonal array.\n",
    "    \n",
    "    See Also\n",
    "    --------\n",
    "    diagonal : Return specified diagonals.\n",
    "    diagflat : Create a 2-D array with the flattened input as a diagonal.\n",
    "    trace : Sum along diagonals.\n",
    "    triu : Upper triangle of an array.\n",
    "    tril : Lower triangle of an array.\n",
    "    \n",
    "    Examples\n",
    "    --------\n",
    "    >>> x = np.arange(9).reshape((3,3))\n",
    "    >>> x\n",
    "    array([[0, 1, 2],\n",
    "           [3, 4, 5],\n",
    "           [6, 7, 8]])\n",
    "    \n",
    "    >>> np.diag(x)\n",
    "    array([0, 4, 8])\n",
    "    >>> np.diag(x, k=1)\n",
    "    array([1, 5])\n",
    "    >>> np.diag(x, k=-1)\n",
    "    array([3, 7])\n",
    "    \n",
    "    >>> np.diag(np.diag(x))\n",
    "    array([[0, 0, 0],\n",
    "           [0, 4, 0],\n",
    "           [0, 0, 8]])\n",
    "```\n",
    "\n",
    "* You can add, multiply, transpose, invert matrices much as you would in linear algebra\n",
    "* Indexing and slicing are quite powerful operations. For example, you can use a matrix to index another.\n",
    "\n",
    "The ability to leverage the powerful indexing and vectorization capabilities of **numpy** is key to producing efficient code. It takes some time to get used to this programming philosophy, but once you do, you will notice a significant improvement in the performance of your code. The impact of good vectorization in the efficiency of your code is illustrated in the following example."
   ]
  },
  {
   "cell_type": "code",
   "execution_count": null,
   "metadata": {
    "collapsed": false
   },
   "outputs": [],
   "source": [
    "import numpy.random as rnd\n",
    "import time\n",
    "\n",
    "A = rnd.rand(1000,1000)\n",
    "B = rnd.rand(1000,1000);\n",
    "C = np.zeros((1000,1000));\n",
    "\n",
    "t = time.time()\n",
    "\n",
    "for i in range(A.shape[0]):\n",
    "    for j in range(A.shape[1]):\n",
    "        C[i, j] = A[i, j] + B[i, j]\n",
    "    \n",
    "t1 = time.time() - t\n",
    "\n",
    "t = time.time()\n",
    "C = A + B;\n",
    "t2 = time.time() - t\n",
    "# \n",
    "print(\"Computation time with cycle (in seconds):\", t1)\n",
    "print(\"Computation time with numpy operation (in seconds):\", t2)"
   ]
  },
  {
   "cell_type": "markdown",
   "metadata": {},
   "source": [
    "Besides illustrating the importance of optimizing your code to take full advantage of its matrix manipulation capabilities, the previous example introduces several additional elements of the **numpy** syntax, such as:\n",
    "\n",
    "* The `rand` function from the **numpy.random** module\n",
    "* The `shape` attribute"
   ]
  },
  {
   "cell_type": "markdown",
   "metadata": {},
   "source": [
    "---\n",
    "\n",
    "#### Activity 1.        \n",
    "\n",
    "Compare the time necessary to compute the cumulative sum of a 10,000 &times; 1 random vector using:\n",
    "\n",
    "* a for loop;\n",
    "* a vectorized operation.\n",
    "\n",
    "For the latter, you may find useful the function `cumsum`.\n",
    "\n",
    "---"
   ]
  },
  {
   "cell_type": "code",
   "execution_count": null,
   "metadata": {
    "collapsed": false
   },
   "outputs": [],
   "source": [
    "import numpy.random as rnd\n",
    "import time\n",
    "\n",
    "A = rnd.rand(10000,1)\n",
    "B = A\n",
    "\n",
    "t = time.time()\n",
    "\n",
    "res = np.zeros((10000,1))\n",
    "res[0,0] = A[0,0]\n",
    "\n",
    "for i in range(A.shape[0]):\n",
    "    res[i, 0] = res[i-1,0] + A[i,0]\n",
    "\n",
    "t1 = time.time() - t\n",
    "\n",
    "t = time.time()\n",
    "cs = np.cumsum(A)\n",
    "t2 = time.time() - t\n",
    "\n",
    "print(\"Computation time with cycle (in seconds):\", t1)\n",
    "print(\"Computation time with numpy operation (in seconds):\", t2)"
   ]
  },
  {
   "cell_type": "markdown",
   "metadata": {},
   "source": [
    "---\n",
    "\n",
    "#### Activity 2.\n",
    "\n",
    "Compute in 20 &times; 1 vector $y$ where the $n$th entry is given by:\n",
    "\n",
    "$$ y_n=\\prod_{i=1}^n\\sum_{j=1}^ij^3 $$\n",
    "\n",
    "You should use no cycles in your computation.\n",
    "\n",
    "**Suggestion**: Check the numpy function `cumprod`.\n",
    "\n",
    "---"
   ]
  },
  {
   "cell_type": "code",
   "execution_count": null,
   "metadata": {
    "collapsed": false
   },
   "outputs": [],
   "source": [
    "import numpy as np\n",
    "\n",
    "A = np.arange(1,21)\n",
    "\n",
    "y = np.cumprod(A**3,dtype=\"float\")\n",
    "\n",
    "print(y)"
   ]
  },
  {
   "cell_type": "markdown",
   "metadata": {},
   "source": [
    "### 3. Plotting\n",
    "\n",
    "The Python module **matplotlib** offers a number of plotting routines that are ideal to display scientific data. The following generates 100 perturbed samples from the function\n",
    "\n",
    "$$f(x) = 2x$$\n",
    "\n",
    "and uses these samples to estimate the function $f$."
   ]
  },
  {
   "cell_type": "code",
   "execution_count": null,
   "metadata": {
    "collapsed": false
   },
   "outputs": [],
   "source": [
    "%matplotlib notebook\n",
    "import matplotlib.pyplot as plt\n",
    "\n",
    "# Create data\n",
    "x = 100 * rnd.rand(100, 1)\n",
    "y = 2 * x + 10 * rnd.randn(100, 1)\n",
    "\n",
    "\n",
    "# Estimate linear relation between X and Y\n",
    "X = np.append(x, np.ones((100,1)), axis = 1)\n",
    "\n",
    "\n",
    "f_est = np.dot(np.linalg.pinv(X), y)\n",
    "y_est = np.dot(X, f_est)\n",
    "\n",
    "# Plot commands\n",
    "\n",
    "plt.figure()\n",
    "plt.plot(x, y_est, hold = True)\n",
    "plt.plot(x, y, 'x')\n",
    "\n",
    "plt.xlabel('Input X');\n",
    "plt.ylabel('Output Y');\n",
    "\n",
    "plt.title('Linear regression');"
   ]
  },
  {
   "cell_type": "markdown",
   "metadata": {},
   "source": [
    "Consider more carefully the piece of code above, where we included line numbers for easier reference.\n",
    "\n",
    "* On lines 5 and 6, the vectors *x* and *y* are created, using mostly functionalities that you already encountered in Sections 1 and 2. The novelty is the function `randn` which is similar to the function `rand` except on their underlying distribution: while `rand` generates random numbers uniformly from the interval [0, 1], `randn` generates normally distributed random numbers with mean 0 and a standard deviation of 1.\n",
    "\n",
    "* Lines 10-13 estimate a linear relation between *x* and *y* using the data already created. Do not worry about the actual computations, and simply observe the use of matrix concatenation in line 10, and the `pinv` function in line 12. The function `pinv` computes the Moore-Penrose pseudo-inverse of a matrix (see [https://en.wikipedia.org/wiki/Moore%E2%80%93Penrose_pseudoinverse])\n",
    "\n",
    "* Lines 17 through 24 contain the actual plotting commands. In particular:\n",
    "\n",
    "  * The figure command in line 17 creates a new figure.\n",
    "\n",
    "  * The plot command in line 18 is responsible for displaying the continuous line in the plot. In here, it is used with its most basic syntax. However, the plot command has a very rich syntax, and you can type `help(\"mplotlib.pyplot.plot\")` to know more about this useful function.\n",
    "  \n",
    "  * To avoid subsequent plot commands to erase the existing plot, we turn on the \"hold\" option to True in the first plot command (line 18).\n",
    "  \n",
    "  * The plot command in line 19 plots the original data. Note how the line specification 'x' indicates that, unlike the plot in line 18, this data should not be plotted continuously but instead marking each data-point with an \"&times;\".\n",
    "  \n",
    "* Finally, the commands in lines 21 to 24 are used to include additional information in the plot, such as the labels for both axis and the title for the plot."
   ]
  },
  {
   "cell_type": "markdown",
   "metadata": {},
   "source": [
    "---\n",
    "\n",
    "#### Activity 3.\n",
    "\n",
    "Recall the definition of $y_n$ in Activity 2:\n",
    "\n",
    "$$ y_n=\\prod_{i=1}^n\\sum_{j=1}^ij^3 $$\n",
    "\n",
    "Plot the value of $y$ against $n$ for $n$ between 1 and 20 (inclusive) using a *linear plot* (obtained\n",
    "with the command `plot`) and a *logarithmic plot* (using the command `semilogy`). Stack both plots together using the command `subplot`, and comment on the observed differences.\n",
    "\n",
    "What would you argue to be the usefulness of semi-logarithmic plots?\n",
    "\n",
    "---"
   ]
  },
  {
   "cell_type": "code",
   "execution_count": null,
   "metadata": {
    "collapsed": false,
    "scrolled": false
   },
   "outputs": [],
   "source": [
    "%matplotlib notebook\n",
    "import matplotlib.pyplot as plt\n",
    "import numpy as np\n",
    "\n",
    "n = np.arange(1,21).reshape(20,1)\n",
    "y = np.cumprod(np.arange(1,21)**3,dtype=\"float\").reshape(20,1)\n",
    "\n",
    "N = np.append(n, np.ones((20,1)), axis = 1)\n",
    "\n",
    "f_est = np.dot(np.linalg.pinv(N), y)\n",
    "y_est = np.dot(N, f_est)\n",
    "\n",
    "# Plot commands\n",
    "\n",
    "plt.figure()\n",
    "plt.plot(n, y, 'o')\n",
    "\n",
    "plt.plot(n, y, hold = True)\n",
    "plt.semilogy(x,y)\n",
    "\n",
    "plt.xlabel('Input n');\n",
    "plt.ylabel('Output y');\n",
    "\n",
    "plt.subplot()\n",
    "\n",
    "plt.title('Linear regression');\n",
    "plt.show()"
   ]
  },
  {
   "cell_type": "markdown",
   "metadata": {},
   "source": [
    "[Provide your answer here]"
   ]
  },
  {
   "cell_type": "markdown",
   "metadata": {},
   "source": [
    "---\n",
    "\n",
    "#### Activity 4\n",
    "\n",
    "A hospital is conducting a study on obesity in adult men and, as part of that study, tested the age and body fat for 18 randomly selected adults, with the following results:\n",
    "\n",
    "| **Age**       |  38  |  27  |  48  |  17  |  33  |  32  |  38  |  38  |  26  |  34  |  33  |  41  |  45  |  46  |  26  |  35  |  22  |  23  | \n",
    "| -------------:|:----:|:----:|:----:|:----:|:----:|:----:|:----:|:----:|:----:|:----:|:----:|:----:|:----:|:----:|:----:|:----:|:----:|:----:|\n",
    "| ** Body fat** | 17.1 | 20.7 | 25.2 | 13.6 | 13.4 | 19.8 | 11.7 | 17.3 | 15.6 | 20.5 | 22.4 | 20.2 | 17.5 | 22.7 |  7.5 | 27.2 |  9.2 | 16.1 |\n",
    "\n",
    "Write down the data above as two row-vectors `age` and `fat`, and replicate the procedure used to generate the plot above to estimate a linear relation between the two quantities. Plot the relation that you estimated against the real data.\n",
    "\n",
    "---"
   ]
  },
  {
   "cell_type": "code",
   "execution_count": null,
   "metadata": {
    "collapsed": false
   },
   "outputs": [],
   "source": [
    "%matplotlib notebook\n",
    "import matplotlib.pyplot as plt\n",
    "import numpy as np\n",
    "\n",
    "age = np.array([[38,27,48,17,33,32,38,38,26,34,33,41,45,46,26,35,22,23]]).reshape(18,1)\n",
    "fat = np.array([[17.1,20.7,25.2,13.6,13.4,19.8,11.7,17.3,15.6,20.5,22.4,20.2,17.5,22.7,7.5,27.2,9.2,16.1]]).reshape(18,1)\n",
    "\n",
    "# Estimate linear relation between age and fat\n",
    "X = np.append(age, np.ones((18,1)), axis = 1)\n",
    "\n",
    "f_est = np.dot(np.linalg.pinv(X), fat)\n",
    "y_est = np.dot(X, f_est)\n",
    "\n",
    "\n",
    "# Plot data\n",
    "plt.figure()\n",
    "plt.plot(age, y_est, hold = True)\n",
    "plt.plot(age, fat, 'x')\n",
    "\n",
    "plt.xlabel('Age');\n",
    "plt.ylabel('Fat');\n",
    "\n",
    "plt.title('Age/fat');\n",
    "\n"
   ]
  }
 ],
 "metadata": {
  "kernelspec": {
   "display_name": "Python 3",
   "language": "python",
   "name": "python3"
  },
  "language_info": {
   "codemirror_mode": {
    "name": "ipython",
    "version": 3
   },
   "file_extension": ".py",
   "mimetype": "text/x-python",
   "name": "python",
   "nbconvert_exporter": "python",
   "pygments_lexer": "ipython3",
   "version": "3.6.0"
  }
 },
 "nbformat": 4,
 "nbformat_minor": 0
}
