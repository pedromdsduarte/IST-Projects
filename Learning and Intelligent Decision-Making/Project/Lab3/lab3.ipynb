{
 "cells": [
  {
   "cell_type": "markdown",
   "metadata": {
    "deletable": true,
    "editable": true
   },
   "source": [
    "# Learning and Decision Making"
   ]
  },
  {
   "cell_type": "markdown",
   "metadata": {
    "deletable": true,
    "editable": true
   },
   "source": [
    "## Laboratory 3: Markov decision problems\n",
    "\n",
    "In the end of the lab, you should submit all code/answers written in the tasks marked as \"Activity n. XXX\", together with the corresponding outputs and any replies to specific questions posed to the e-mail <adi.tecnico@gmail.com>. Make sure that the subject is of the form [&lt;group n.&gt;] LAB &lt;lab n.&gt;.\n",
    "\n",
    "### 1. Modeling\n",
    "\n",
    "Consider once again the predator-prey domain described in the Homework and which you described as a Markov decision process.\n",
    "\n",
    "<img src=\"toroidal-world.png\" width=\"400px\">\n",
    "\n",
    "Recall that:\n",
    "\n",
    "* toroidal world \"wraps around\", i.e., an individual exiting through any of the four sides of the grid reenters on the opposite side (see figure above).\n",
    "\n",
    "* At each time step, the hare selects uniformly at random one of the four directions (up, down, left, and right) and moves to the adjacent cell in that direction with a probability 0.4. With a probability 0.6 it remains in the same cell. \n",
    "\n",
    "* The wolf, on the other hand, can select at each time step one of five actions---up (_U_), down (_D_), left (_L_) and right (_R_) or stay (_S_). If it selects action _S_, it remains in the same cell with probability 1.0. Otherwise, the other 4 actions succeed in moving the wolf to the adjacent cell in the corresponding direction with a probability 0.8 and fail with a probability 0.2. \n",
    "\n",
    "* The goal of the wolf is to catch the hare."
   ]
  },
  {
   "cell_type": "markdown",
   "metadata": {
    "deletable": true,
    "editable": true
   },
   "source": [
    "---\n",
    "\n",
    "#### Activity 1.        \n",
    "\n",
    "Implement your Markov decision process in Python. In particular,\n",
    "\n",
    "* Create a list with all the states;\n",
    "* Create a list with all the actions;\n",
    "* For each action, define a `numpy` array with the corresponding transition probabilities;\n",
    "* Define a `numpy`array with the costs\n",
    "\n",
    "The order for the states and actions used in the transition probability and cost matrices should match that in the lists of states and actions. \n",
    "\n",
    "**Note 1**: Don't forget to import `numpy`.\n",
    "\n",
    "**Note 2**: You can define the transition probability matrices for each of the two individuals and then build the combined transition probability matrices using the `numpy.kron` function.\n",
    "\n",
    "---"
   ]
  },
  {
   "cell_type": "code",
   "execution_count": 2,
   "metadata": {
    "collapsed": false,
    "deletable": true,
    "editable": true,
    "scrolled": false
   },
   "outputs": [
    {
     "name": "stdout",
     "output_type": "stream",
     "text": [
      "Cost= \n",
      " [[ 1.   1.   1.   1.   0. ]\n",
      " [ 1.   1.   0.   0.   1. ]\n",
      " [ 0.   0.   1.   1.   1. ]\n",
      " [ 0.5  0.5  0.5  0.5  1. ]\n",
      " [ 1.   1.   0.   0.   1. ]\n",
      " [ 1.   1.   1.   1.   0. ]\n",
      " [ 0.5  0.5  0.5  0.5  1. ]\n",
      " [ 0.   0.   1.   1.   1. ]\n",
      " [ 0.   0.   1.   1.   1. ]\n",
      " [ 0.5  0.5  0.5  0.5  1. ]\n",
      " [ 1.   1.   1.   1.   0. ]\n",
      " [ 1.   1.   0.   0.   1. ]\n",
      " [ 0.5  0.5  0.5  0.5  1. ]\n",
      " [ 0.   0.   1.   1.   1. ]\n",
      " [ 1.   1.   0.   0.   1. ]\n",
      " [ 1.   1.   1.   1.   0. ]]\n"
     ]
    }
   ],
   "source": [
    "import numpy as np\n",
    "\n",
    "\n",
    "#WOLF ACTIONS\n",
    "def up(position):\n",
    "    if(position <= 2):\n",
    "        return position + 2\n",
    "    else:\n",
    "        return position - 2\n",
    "    \n",
    "def down(position):\n",
    "    if(position > 2):\n",
    "        return position - 2\n",
    "    else:\n",
    "        return position + 2\n",
    "\n",
    "def right(position):\n",
    "    if(position == 1 or position ==3):\n",
    "        return position + 1\n",
    "    else:\n",
    "        return position -1\n",
    "    \n",
    "def left(position):\n",
    "    if(position == 2 or position == 4):\n",
    "        return position - 1\n",
    "    else:\n",
    "        return position + 1\n",
    "    \n",
    "def stay(position):\n",
    "    return position\n",
    "\n",
    "#HARE MOVEMENTS\n",
    "\n",
    "def hare_movements(position, actions):\n",
    "    positions = []\n",
    "    for action in actions:\n",
    "        positions = positions + [action(position)]\n",
    "    return list(set(positions))\n",
    "\n",
    "\n",
    "\n",
    "hare_stay = 0.6\n",
    "hare_move = 0.4\n",
    "hare_choice = 0.5\n",
    "\n",
    "wolf_fail = 0.2\n",
    "wolf_success = 0.8\n",
    "wolf_stay = 1\n",
    "\n",
    "\n",
    "state_space =[(1,1),(1,2),(1,3),(1,4),(2,1),(2,2),(2,3),(2,4),(3,1),(3,2),(3,3),(3,4),(4,1),(4,2),(4,3),(4,4)]\n",
    "\n",
    "action_space = [up, down, left, right, stay]\n",
    "\n",
    "m_dictionary = {(1,1):0, (1,2):1 ,(1,3):2, (1,4):3, (2,1):4, (2,2):5,\n",
    "                (2,3):6, (2,4):7, (3,1):8, (3,2):9, (3,3):10, (3,4):11\n",
    "                ,(4,1):12, (4,2):13, (4,3):14, (4,4):15}\n",
    "\n",
    "\n",
    "\n",
    "\n",
    "\n",
    "\n",
    "def gen_cost_matrix(states, actions):\n",
    "    C = np.zeros(shape = (len(states), len(actions)))\n",
    "    C[:] = 1\n",
    "    equality = [(1,1),(2,2),(3,3),(4,4)]\n",
    "    verticality = [(1,3),(3,1),(2,4),(4,2)]\n",
    "    horizontality = [(1,2),(2,1),(3,4),(4,3)]\n",
    "    diagonality = [(1,4),(4,1),(2,3),(3,2)]\n",
    "            \n",
    "    \n",
    "    for state in states:\n",
    "        if state in equality:\n",
    "            C[m_dictionary[state]][4] = 0\n",
    "        elif state in verticality:\n",
    "            C[m_dictionary[state]][0] = 0\n",
    "            C[m_dictionary[state]][1] = 0\n",
    "        elif state in horizontality:\n",
    "            C[m_dictionary[state]][2] = 0\n",
    "            C[m_dictionary[state]][3] = 0\n",
    "        elif state in diagonality:\n",
    "            for action in range(0,len(actions)-1):\n",
    "                C[m_dictionary[state]][action] = 0.5\n",
    "        \n",
    "    \n",
    "    return C\n",
    "\n",
    "Hare = np.array([[0.6, 0.2, 0.2, 0],\n",
    "                 [0.2, 0.6, 0, 0.2],\n",
    "                 [0.2, 0, 0.6, 0.2], \n",
    "                 [0, 0.2, 0.2, 0.6]])\n",
    "\n",
    "\n",
    "Wup = Wdown = np.array([[0.2, 0, 0.8, 0],\n",
    "                        [0, 0.2, 0, 0.8],\n",
    "                        [0.8, 0, 0.2, 0],\n",
    "                        [0, 0.8, 0, 0.2]])\n",
    "\n",
    "Wleft = Wright = np.array([[0.2, 0.8, 0, 0],\n",
    "                           [0.8, 0.2, 0, 0],\n",
    "                           [0, 0, 0.2, 0.8],\n",
    "                           [0, 0, 0.8, 0.2]])\n",
    "\n",
    "Wstay = ([[1, 0, 0, 0],\n",
    "          [0, 1, 0, 0],\n",
    "          [0, 0, 1, 0],\n",
    "          [0, 0, 0, 1]])\n",
    "\n",
    "\n",
    "\n",
    "np.set_printoptions(linewidth = 200)\n",
    "\n",
    "Pup = np.kron(Wup, Hare)\n",
    "Pdown = np.kron(Wdown, Hare)\n",
    "Pright = np.kron(Wright, Hare)\n",
    "Pleft = np.kron(Wleft, Hare)\n",
    "Pstay = np.kron(Wstay, Hare)\n",
    "\n",
    "Cost = gen_cost_matrix(state_space, action_space)\n",
    "\n",
    "print(\"Cost= \\n\",Cost)\n"
   ]
  },
  {
   "cell_type": "markdown",
   "metadata": {
    "deletable": true,
    "editable": true
   },
   "source": [
    "### 2. Prediction\n",
    "\n",
    "You are now going to evaluate a given policy, computing the corresponding cost-to-go."
   ]
  },
  {
   "cell_type": "markdown",
   "metadata": {
    "deletable": true,
    "editable": true,
    "raw_mimetype": "text/latex"
   },
   "source": [
    "---\n",
    "\n",
    "#### Activity 2.\n",
    "\n",
    "Describe the policy that, in each state $(w, h)$, always moves the wolf to the cell closest to the hare. If multiple such cells exist, the wolf should select randomly between the two.\n",
    "\n",
    "For example, suppose that the wolf is in cell 1 and the hare in cell 4 (figure above, left). The wolf should then select randomly between the actions _U_, _D_ (which move the wolf to cell 3), _L_ and _R_ (which move the wolf to cell 2). Conversely, if the wolf is in cell 1 and the hare in cell 3 (figure above, right), the wolf should select randomly between the two actions _U_ and _D_ (which move the wolf to cell 3).\n",
    "\n",
    "**Note:** The policy should be described as a vector with as many rows as there are states and as many columns as there are actions, where the entry _xa_ has the probability of selecting action _a_ in state _x_.\n",
    "\n",
    "---"
   ]
  },
  {
   "cell_type": "code",
   "execution_count": 3,
   "metadata": {
    "collapsed": false,
    "deletable": true,
    "editable": true
   },
   "outputs": [
    {
     "name": "stdout",
     "output_type": "stream",
     "text": [
      "Pi= \n",
      " [[ 0.    0.    0.    0.    1.  ]\n",
      " [ 0.    0.    0.5   0.5   0.  ]\n",
      " [ 0.5   0.5   0.    0.    0.  ]\n",
      " [ 0.25  0.25  0.25  0.25  0.  ]\n",
      " [ 0.    0.    0.5   0.5   0.  ]\n",
      " [ 0.    0.    0.    0.    1.  ]\n",
      " [ 0.25  0.25  0.25  0.25  0.  ]\n",
      " [ 0.5   0.5   0.    0.    0.  ]\n",
      " [ 0.5   0.5   0.    0.    0.  ]\n",
      " [ 0.25  0.25  0.25  0.25  0.  ]\n",
      " [ 0.    0.    0.    0.    1.  ]\n",
      " [ 0.    0.    0.5   0.5   0.  ]\n",
      " [ 0.25  0.25  0.25  0.25  0.  ]\n",
      " [ 0.5   0.5   0.    0.    0.  ]\n",
      " [ 0.    0.    0.5   0.5   0.  ]\n",
      " [ 0.    0.    0.    0.    1.  ]]\n"
     ]
    }
   ],
   "source": [
    "def gen_policy_matrix(states, actions):\n",
    "    Pi = np.zeros(shape = (len(states), len(actions)))\n",
    "    Pi[:] = 0\n",
    "    equality = [(1,1),(2,2),(3,3),(4,4)]\n",
    "    verticality = [(1,3),(3,1),(2,4),(4,2)]\n",
    "    horizontality = [(1,2),(2,1),(3,4),(4,3)]\n",
    "    diagonality = [(1,4),(4,1),(2,3),(3,2)]\n",
    "            \n",
    "    \n",
    "    for state in states:\n",
    "        if state in equality:\n",
    "            Pi[m_dictionary[state]][4] = 1\n",
    "        elif state in verticality:\n",
    "            Pi[m_dictionary[state]][0] = 0.5\n",
    "            Pi[m_dictionary[state]][1] = 0.5\n",
    "        elif state in horizontality:\n",
    "            Pi[m_dictionary[state]][2] = 0.5\n",
    "            Pi[m_dictionary[state]][3] = 0.5\n",
    "        elif state in diagonality:\n",
    "            for action in range(0,len(actions)-1):\n",
    "                Pi[m_dictionary[state]][action] = 0.25\n",
    "        \n",
    "    \n",
    "    return Pi\n",
    "\n",
    "\n",
    "Pi = gen_policy_matrix(state_space, action_space)\n",
    "print(\"Pi= \\n\", Pi)\n"
   ]
  },
  {
   "cell_type": "markdown",
   "metadata": {
    "deletable": true,
    "editable": true
   },
   "source": [
    "---\n",
    "\n",
    "#### Activity 3.\n",
    "\n",
    "Compute the cost-to-go function $J^\\pi$ associated with the policy from Activity 2. Use $\\gamma=0.99$.\n",
    "\n",
    "---"
   ]
  },
  {
   "cell_type": "code",
   "execution_count": 4,
   "metadata": {
    "collapsed": false,
    "deletable": true,
    "editable": true
   },
   "outputs": [
    {
     "name": "stdout",
     "output_type": "stream",
     "text": [
      "J =\n",
      " [ 1.13980941  1.16859248  1.16859248  1.83787144  1.16859248  1.13980941  1.83787144  1.16859248  1.16859248  1.83787144  1.13980941  1.16859248  1.83787144  1.16859248  1.16859248  1.13980941]\n"
     ]
    }
   ],
   "source": [
    "p_matrices = [Pup, Pdown, Pleft, Pright, Pstay]\n",
    "\n",
    "def generate_P_Pi(policy_matrix, probability_matrices):\n",
    "    Ppi = np.zeros(shape = (16, 16))\n",
    "    for x in range(np.shape(policy_matrix)[0]):\n",
    "        for y in range(np.shape(policy_matrix)[1]):\n",
    "            Ppi[x] =  Ppi[x] + np.multiply (policy_matrix[x][y], (probability_matrices[y])[x])\n",
    "    return Ppi\n",
    "\n",
    "\n",
    "def generate_C_Pi(policy_matrix, cost_matrix):\n",
    "    Cpi = np.zeros(shape = (16))\n",
    "    for x in range(np.shape(policy_matrix)[0]):\n",
    "        for y in range(np.shape(policy_matrix)[1]):\n",
    "            Cpi[x] =  Cpi[x] + np.multiply (policy_matrix[x][y], cost_matrix[x][y])\n",
    "    return Cpi\n",
    "\n",
    "\n",
    "def compute_cost_to_go(Ppi, Cpi, discount):\n",
    "    I = np.identity(Ppi.shape[0])\n",
    "    scaled_p = np.multiply(discount, Ppi)\n",
    "    subtraction = np.subtract(I, scaled_p)\n",
    "    inversion = np.linalg.inv(subtraction)\n",
    "    J =np.dot(inversion, Cpi)\n",
    "    return J\n",
    "        \n",
    "    \n",
    "    \n",
    "Ppi = generate_P_Pi(Pi, p_matrices)        \n",
    "Cpi = generate_C_Pi(Pi, Cost)\n",
    "\n",
    "J = compute_cost_to_go(Ppi, Cpi, 0.99)\n",
    "\n",
    "print(\"J =\\n\",J)"
   ]
  },
  {
   "cell_type": "markdown",
   "metadata": {
    "deletable": true,
    "editable": true
   },
   "source": [
    "### 3. Control\n",
    "\n",
    "In this section you are going to compare value and policy iteration, both in terms of time and number of iterations."
   ]
  },
  {
   "cell_type": "markdown",
   "metadata": {
    "deletable": true,
    "editable": true
   },
   "source": [
    "---\n",
    "\n",
    "#### Activity 4\n",
    "\n",
    "Show that the policy in Activity 3 is optimal: use value iteration to compute $J^*$ and show that $J^*=J^\\pi$. Track the time and the number of iterations taken to compute $J^*$.\n",
    "\n",
    "**Note 1:** Stop the algorithm when the error between iterations is smaller than $10^{-8}$.\n",
    "\n",
    "**Note 2:** You may find useful the function ``time()`` from the module ``time``.\n",
    "\n",
    "---"
   ]
  },
  {
   "cell_type": "code",
   "execution_count": 6,
   "metadata": {
    "collapsed": false,
    "deletable": true,
    "editable": true,
    "scrolled": false
   },
   "outputs": [
    {
     "name": "stdout",
     "output_type": "stream",
     "text": [
      "Optimal J =\n",
      "[ 1.13980917  1.16859223  1.16859223  1.8378712   1.16859223  1.13980917  1.8378712   1.16859223  1.16859223  1.8378712   1.13980917  1.16859223  1.8378712   1.16859223  1.16859223  1.13980917] \n",
      "\n",
      "Calculated in : 1530 iterations for 0.06505537033081055 seconds\n"
     ]
    }
   ],
   "source": [
    "import time as time\n",
    "def value_iteration(cost_matrix, discount):\n",
    "    i = 0\n",
    "    err = 1\n",
    "    J = np.zeros(16)\n",
    "    start = time.time()\n",
    "    while err > 1e-8:\n",
    "        Qup = cost_matrix[:,0] + np.multiply(discount, np.dot(Pup, J))\n",
    "        Qdown = cost_matrix[:,1] + np.multiply(discount, np.dot(Pdown, J))\n",
    "        Qleft = cost_matrix[:,2] + np.multiply(discount, np.dot(Pleft, J))\n",
    "        Qright = cost_matrix[:,3] + np.multiply(discount, np.dot(Pright, J))\n",
    "        Qstay = cost_matrix[:,4] + np.multiply(discount, np.dot(Pstay, J))\n",
    "        \n",
    "        Jnew = np.min((Qup, Qdown, Qleft, Qright, Qstay), axis = 0)\n",
    "        err = np.linalg.norm(Jnew - J)\n",
    "        i +=1\n",
    "        \n",
    "        J = Jnew\n",
    "    end = time.time()\n",
    "    return J, i, end - start\n",
    "\n",
    "\n",
    "J_value_iter, iterations, performance = value_iteration(Cost, 0.99)\n",
    "print(\"Optimal J =\")\n",
    "print(J_value_iter, \"\\n\")\n",
    "print(\"Calculated in :\", iterations, \"iterations for\", performance, \"seconds\")\n"
   ]
  },
  {
   "cell_type": "markdown",
   "metadata": {
    "deletable": true,
    "editable": true
   },
   "source": [
    "---\n",
    "\n",
    "#### Activity 5\n",
    "\n",
    "Compute once again the optimal policy now using policy iteration. Track the time and number of iterations taken and compare to those of Activity 4.\n",
    "\n",
    "**Note:** If you find that numerical errors affect your computations (especially when comparing two values/arrays) you may use the `numpy` function `isclose` with adequately set absolute and relative tolerance parameters (e.g., $10^{-8}$).\n",
    "\n",
    "---"
   ]
  },
  {
   "cell_type": "code",
   "execution_count": null,
   "metadata": {
    "collapsed": false,
    "deletable": true,
    "editable": true,
    "scrolled": false
   },
   "outputs": [],
   "source": [
    "def policy_iteration(Ppi, Cpi, cost_matrix, discount):\n",
    "    Pi = np.ones((16, 5))\n",
    "    i = 0\n",
    "    finished = False\n",
    "    start = time.time()\n",
    "    while not finished:\n",
    "        J = compute_cost_to_go(Ppi, Cpi, 0.99)\n",
    "        \n",
    "        Qup = (cost_matrix[:,0] + np.multiply(discount, np.dot(Pup, J))).reshape(16,1)\n",
    "        Qdown = (cost_matrix[:,1] + np.multiply(discount, np.dot(Pdown, J))).reshape(16,1)\n",
    "        Qleft = (cost_matrix[:,2] + np.multiply(discount, np.dot(Pleft, J))).reshape(16,1)\n",
    "        Qright = (cost_matrix[:,3] + np.multiply(discount, np.dot(Pright, J))).reshape(16,1)\n",
    "        Qstay = (cost_matrix[:,4] + np.multiply(discount, np.dot(Pstay, J))).reshape(16,1)\n",
    "        \n",
    "        Pinew = np.zeros(shape = (16, 5))\n",
    "        \n",
    "        Pinew[:, 0, None] = np.isclose(Qup, np.min([Qup, Qdown, Qleft, Qright, Qstay], axis = 0), \n",
    "                                       atol = 1e-10, rtol = 1e-10).astype(int)\n",
    "        Pinew[:, 1, None] = np.isclose(Qdown, np.min([Qup, Qdown, Qleft, Qright, Qstay], axis = 0), \n",
    "                                       atol = 1e-10, rtol = 1e-10).astype(int)\n",
    "        Pinew[:, 2, None] = np.isclose(Qleft, np.min([Qup, Qdown, Qleft, Qright, Qstay], axis = 0), \n",
    "                                       atol = 1e-10, rtol = 1e-10).astype(int)\n",
    "        Pinew[:, 3, None] = np.isclose(Qright, np.min([Qup, Qdown, Qleft, Qright, Qstay], axis = 0), \n",
    "                                       atol = 1e-10, rtol = 1e-10).astype(int)\n",
    "        Pinew[:, 4, None] = np.isclose(Qstay, np.min([Qup, Qdown, Qleft, Qright, Qstay], axis = 0), \n",
    "                                       atol = 1e-10, rtol = 1e-10).astype(int)\n",
    "        \n",
    "        Pinew = Pinew / np.sum(Pinew, axis = 1, keepdims = True)\n",
    "        \n",
    "        finished = (Pi == Pinew).all()\n",
    "        \n",
    "        Pi = Pinew\n",
    "        i +=1\n",
    "        \n",
    "    end = time.time()\n",
    "    return Pi, i, end - start\n",
    "\n",
    "Pi_Optimal, iters, perf = policy_iteration(Ppi, Cpi, Cost, 0.99)\n",
    "print(\"Optimal Pi =\")\n",
    "print(Pi_Optimal, \"\\n\")\n",
    "print(\"Calculated in :\", iters, \"iterations for\", perf, \"seconds\")"
   ]
  },
  {
   "cell_type": "markdown",
   "metadata": {
    "deletable": true,
    "editable": true
   },
   "source": [
    "### 4. Simulation\n",
    "\n",
    "Finally, in this section you will check whether the theoretical computations of the cost-to-go actually correspond to the cost incurred by an agent following a policy."
   ]
  },
  {
   "cell_type": "markdown",
   "metadata": {
    "deletable": true,
    "editable": true
   },
   "source": [
    "---\n",
    "\n",
    "#### Activity 6\n",
    "\n",
    "Starting in each of the two states $x$ in the initial figure, \n",
    "\n",
    "* Generate **100** trajectories of 10,000 steps each, following the optimal policy for the MDP. \n",
    "* For each trajectory, compute the accumulated (discounted) cost. \n",
    "* Compute the average cost over the 100 trajectories.\n",
    "* Compare the resulting value with that computed in Activity 4 for the two states. \n",
    "\n",
    "** Note:** The simulation may take a bit of time, don't despair ☺️.\n",
    "\n",
    "---"
   ]
  },
  {
   "cell_type": "code",
   "execution_count": null,
   "metadata": {
    "collapsed": false,
    "deletable": true,
    "editable": true
   },
   "outputs": [],
   "source": [
    "a = (1, 4)\n",
    "b = (1, 3)\n",
    "\n",
    "a_trajectories = []\n",
    "b_trajectories = []\n",
    "\n",
    "state_map = np.arange(16)\n",
    "action_map = np.arange(5)\n",
    "\n",
    "action_matrices = [Pup, Pdown, Pleft, Pright, Pstay]\n",
    "action_3d_matrix = np.zeros((5, 16, 16))\n",
    "\n",
    "for action in action_map:\n",
    "    action_3d_matrix[action] = action_matrices[action]\n",
    "\n",
    "a_cost = 0\n",
    "b_cost = 0\n",
    "\n",
    "for i in range(100):\n",
    "    gamma = 1\n",
    "\n",
    "    \n",
    "    a_trajectory = [a]\n",
    "    b_trajectory = [b]\n",
    "\n",
    "    for i in range(9999):\n",
    "\n",
    "        a_begin = m_dictionary[a_trajectory[-1]]\n",
    "        b_begin = m_dictionary[b_trajectory[-1]]\n",
    "        \n",
    "        \n",
    "        a_action = np.random.choice(action_map, size = 1,p = Pi_Optimal[a_begin])\n",
    "        b_action = np.random.choice(action_map, size = 1,p = Pi_Optimal[b_begin])\n",
    "        \n",
    "        a_action = a_action[0]\n",
    "        b_action = b_action[0]\n",
    "        \n",
    "        \n",
    "        a_p = action_3d_matrix[a_action][a_begin] \n",
    "        b_p = action_3d_matrix[b_action][b_begin] \n",
    "        \n",
    "        next_a_state = np.random.choice(state_map, size = 1,\n",
    "                                        p = a_p)[0]\n",
    "        \n",
    "        next_b_state = np.random.choice(state_map, size = 1,p = b_p)[0]\n",
    "        \n",
    "        a_trajectory += [state_space[next_a_state]]\n",
    "        b_trajectory += [state_space[next_b_state]]\n",
    "        \n",
    "        a_cost += Cost[a_begin][a_action] * gamma\n",
    "        b_cost += Cost[b_begin][b_action] * gamma\n",
    "        \n",
    "        gamma = gamma * 0.99\n",
    "        \n",
    "    a_trajectories += [a_trajectory]\n",
    "    b_trajectories += [b_trajectory]\n",
    "    \n",
    "    \n",
    "    \n",
    "print(\"(1,4) a_cost =\", a_cost/100)\n",
    "print(\"(1,3) b_cost =\", b_cost/100)\n",
    "    \n",
    "\"\"\"\n",
    "Como esperado, os valores obtidos através da simulação são bastante semelhantes aos obtidos \n",
    "anteriormente no cálculo do J*, para os estados correspondentes\n",
    "\"\"\"\n",
    "    "
   ]
  }
 ],
 "metadata": {
  "celltoolbar": "Raw Cell Format",
  "kernelspec": {
   "display_name": "Python 3",
   "language": "python",
   "name": "python3"
  },
  "language_info": {
   "codemirror_mode": {
    "name": "ipython",
    "version": 3
   },
   "file_extension": ".py",
   "mimetype": "text/x-python",
   "name": "python",
   "nbconvert_exporter": "python",
   "pygments_lexer": "ipython3",
   "version": "3.6.0"
  }
 },
 "nbformat": 4,
 "nbformat_minor": 0
}
