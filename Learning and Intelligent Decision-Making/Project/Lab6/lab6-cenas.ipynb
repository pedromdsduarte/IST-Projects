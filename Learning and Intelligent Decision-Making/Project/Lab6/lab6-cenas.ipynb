{
 "cells": [
  {
   "cell_type": "markdown",
   "metadata": {
    "deletable": true,
    "editable": true
   },
   "source": [
    "# Learning and Decision Making"
   ]
  },
  {
   "cell_type": "markdown",
   "metadata": {
    "deletable": true,
    "editable": true
   },
   "source": [
    "## Laboratory 6: Reinforcement learning\n",
    "\n",
    "In the end of the lab, you should submit all code/answers written in the tasks marked as \"Activity n. XXX\", together with the corresponding outputs and any replies to specific questions posed to the e-mail <adi.tecnico@gmail.com>. Make sure that the subject is of the form [&lt;group n.&gt;] LAB &lt;lab n.&gt;."
   ]
  },
  {
   "cell_type": "markdown",
   "metadata": {
    "deletable": true,
    "editable": true
   },
   "source": [
    "### 1. The windy gridworld domain\n",
    "\n",
    "Consider the larger version of the windy gridworld domain depicted in the figure below.\n",
    "\n",
    "<img src=\"windy.png\" width=\"400px\">\n",
    "\n",
    "In it, a boat must navigate a 7 &times; 10 gridworld, to reach the goal cell, marked with _G_. There is a crosswind upward through the middle of the grid, in the direction indicated by the gray arrows. The boat has available the standard four actions -- _Up_, _Down_, _Left_ and _Right_. In the region affected by the wind, however, the resulting next state is shifted upward as a consequence of the crosswind, the strength of which varies from column to column. The strength of the wind is given below each column, and corresponds to the number of cells that the movement is shifted upward. For example, if the boat is one cell to the right of the goal, then the action _Left_ takes you to the cell just above the goal.\n",
    "\n",
    "The agent pays a cost of 1 in every step before reaching the goal. The problem can be described as an MDP $(\\mathcal{X},\\mathcal{A},\\mathbf{P},c,\\gamma)$ as follows."
   ]
  },
  {
   "cell_type": "code",
   "execution_count": 124,
   "metadata": {
    "collapsed": false,
    "deletable": true,
    "editable": true,
    "scrolled": false
   },
   "outputs": [
    {
     "name": "stdout",
     "output_type": "stream",
     "text": [
      "\n",
      "- MDP problem specification: -\n",
      "\n",
      "States:\n",
      "[[0 0]\n",
      " [0 1]\n",
      " [0 2]\n",
      " ..., \n",
      " [6 7]\n",
      " [6 8]\n",
      " [6 9]]\n",
      "\n",
      "Actions:\n",
      "['U', 'D', 'L', 'R']\n",
      "\n",
      "Transition probabilities:\n",
      "Action U\n",
      "[[ 1.  0.  0. ...,  0.  0.  0.]\n",
      " [ 0.  1.  0. ...,  0.  0.  0.]\n",
      " [ 0.  0.  1. ...,  0.  0.  0.]\n",
      " ..., \n",
      " [ 0.  0.  0. ...,  0.  0.  0.]\n",
      " [ 0.  0.  0. ...,  0.  0.  0.]\n",
      " [ 0.  0.  0. ...,  0.  0.  0.]]\n",
      "Action D\n",
      "[[ 0.  0.  0. ...,  0.  0.  0.]\n",
      " [ 0.  0.  0. ...,  0.  0.  0.]\n",
      " [ 0.  0.  0. ...,  0.  0.  0.]\n",
      " ..., \n",
      " [ 0.  0.  0. ...,  0.  0.  0.]\n",
      " [ 0.  0.  0. ...,  0.  1.  0.]\n",
      " [ 0.  0.  0. ...,  0.  0.  1.]]\n",
      "Action L\n",
      "[[ 1.  0.  0. ...,  0.  0.  0.]\n",
      " [ 1.  0.  0. ...,  0.  0.  0.]\n",
      " [ 0.  1.  0. ...,  0.  0.  0.]\n",
      " ..., \n",
      " [ 0.  0.  0. ...,  0.  0.  0.]\n",
      " [ 0.  0.  0. ...,  0.  0.  0.]\n",
      " [ 0.  0.  0. ...,  0.  1.  0.]]\n",
      "Action R\n",
      "[[ 0.  1.  0. ...,  0.  0.  0.]\n",
      " [ 0.  0.  1. ...,  0.  0.  0.]\n",
      " [ 0.  0.  0. ...,  0.  0.  0.]\n",
      " ..., \n",
      " [ 0.  0.  0. ...,  0.  0.  0.]\n",
      " [ 0.  0.  0. ...,  0.  0.  0.]\n",
      " [ 0.  0.  0. ...,  0.  0.  1.]]\n",
      "\n",
      "cost:\n",
      "[[ 1.  1.  1.  1.]\n",
      " [ 1.  1.  1.  1.]\n",
      " [ 1.  1.  1.  1.]\n",
      " ..., \n",
      " [ 1.  1.  1.  1.]\n",
      " [ 1.  1.  1.  1.]\n",
      " [ 1.  1.  1.  1.]]\n",
      "\n",
      "Start state: [3, 0]\n",
      "\n",
      "Goal state: [3, 7]\n"
     ]
    }
   ],
   "source": [
    "%matplotlib notebook\n",
    "import numpy as np\n",
    "import numpy.linalg as la\n",
    "import matplotlib.pyplot as plt\n",
    "\n",
    "np.set_printoptions(threshold=10)\n",
    "\n",
    "# Problem specific parameters\n",
    "WIND = (0, 0, 0, 1, 1, 1, 2, 2, 1, 0)\n",
    "nrows = 7\n",
    "ncols = 10\n",
    "init = [3, 0]\n",
    "goal = [3, 7]\n",
    "\n",
    "# States\n",
    "X = [[x, y] for x in range(nrows) for y in range(ncols)]\n",
    "nX = len(X)\n",
    "\n",
    "# Actions\n",
    "A = ['U', 'D', 'L', 'R']\n",
    "nA = len(A)\n",
    "\n",
    "# Transition probabilities\n",
    "P = dict()\n",
    "P['U'] = np.zeros((nX, nX))\n",
    "P['D'] = np.zeros((nX, nX))\n",
    "P['L'] = np.zeros((nX, nX))\n",
    "P['R'] = np.zeros((nX, nX))\n",
    "\n",
    "for i in range(len(X)):\n",
    "    x = X[i]\n",
    "    y = dict()\n",
    "    \n",
    "    y['U'] = [x[0] - WIND[x[1]] - 1, x[1]]\n",
    "    y['D'] = [x[0] - WIND[x[1]] + 1, x[1]]\n",
    "    y['L'] = [x[0] - WIND[x[1]], x[1] - 1]\n",
    "    y['R'] = [x[0] - WIND[x[1]], x[1] + 1]\n",
    "    \n",
    "    for k in y:\n",
    "        y[k][0] = max(min(y[k][0], nrows - 1), 0)\n",
    "        y[k][1] = max(min(y[k][1], ncols - 1), 0)\n",
    "        j = X.index(y[k])\n",
    "        P[k][i, j] = 1\n",
    "\n",
    "c = np.ones((nX, nA))\n",
    "c[X.index(goal), :] = 0\n",
    "\n",
    "gamma = 0.99\n",
    "\n",
    "# -- Pretty print\n",
    "\n",
    "print('\\n- MDP problem specification: -\\n')\n",
    "\n",
    "print('States:')\n",
    "print(np.array(X))\n",
    "\n",
    "print('\\nActions:')\n",
    "print(A)\n",
    "\n",
    "print('\\nTransition probabilities:')\n",
    "for a in A:\n",
    "    print('Action', a)\n",
    "    print(P[a])\n",
    "    \n",
    "print('\\ncost:')\n",
    "print(c)\n",
    "\n",
    "print('\\nStart state:', init)\n",
    "print('\\nGoal state:', goal)"
   ]
  },
  {
   "cell_type": "markdown",
   "metadata": {
    "deletable": true,
    "editable": true
   },
   "source": [
    "---\n",
    "\n",
    "#### Activity 1.        \n",
    "\n",
    "Compute the optimal _Q_-function for the MDP defined above using value iteration. As your stopping condition, use an error between iterations smaller than `1e-8`.\n",
    "\n",
    "---"
   ]
  },
  {
   "cell_type": "code",
   "execution_count": 125,
   "metadata": {
    "collapsed": false,
    "deletable": true,
    "editable": true,
    "scrolled": false
   },
   "outputs": [
    {
     "name": "stdout",
     "output_type": "stream",
     "text": [
      "[[ 88.97864977  88.97864977  88.97864977  88.867323  ]\n",
      " [ 88.867323    88.867323    88.97864977  88.75487172]\n",
      " [ 88.75487172  88.75487172  88.867323    88.64128457]\n",
      " ..., \n",
      " [ 87.18534603  87.44035764  88.29359257  87.31349257]\n",
      " [ 87.31349257  87.44035764  87.44035764  87.56595406]\n",
      " [ 87.56595406  87.56595406  87.44035764  87.56595406]]\n"
     ]
    }
   ],
   "source": [
    "def value_iteration():\n",
    "    i = 0\n",
    "    err = 1\n",
    "    J = np.zeros((len(X)))\n",
    "    Q = np.zeros((len(X), len(A)))\n",
    "    while err > 1e-8:\n",
    "        Qup = c[:,0] + np.multiply(gamma, np.dot(P['U'], J))        \n",
    "        Qdown = c[:,1] + np.multiply(gamma, np.dot(P['D'], J))\n",
    "        Qleft = c[:,2] + np.multiply(gamma, np.dot(P['L'], J))\n",
    "        Qright = c[:,3] + np.multiply(gamma, np.dot(P['R'], J))\n",
    "        \n",
    "        Jnew = np.min((Qup, Qdown, Qleft, Qright), axis = 0)\n",
    "        err = np.linalg.norm(Jnew - J)\n",
    "        i +=1\n",
    "        J = Jnew\n",
    "    Q[:,0] = Qup\n",
    "    Q[:,1] = Qdown\n",
    "    Q[:,2] = Qleft\n",
    "    Q[:,3] = Qright\n",
    "\n",
    "\n",
    "    return Q\n",
    "\n",
    "Q = value_iteration()\n",
    "print(Q)"
   ]
  },
  {
   "cell_type": "markdown",
   "metadata": {
    "deletable": true,
    "editable": true
   },
   "source": [
    "---\n",
    "\n",
    "#### Activity 2.        \n",
    "\n",
    "Write down a Python function that, given a Q-function $Q$ and a state $x$, selects a random action using the $\\epsilon$-greedy policy obtained from $Q$ for state $x$. Your function should receive an optional parameter, corresponding to $\\epsilon$, with default value of 0.1. \n",
    "\n",
    "**Note:** In the case of two actions with the same value, your $\\epsilon$-greedy policy should randomize between the two.\n",
    "\n",
    "---"
   ]
  },
  {
   "cell_type": "code",
   "execution_count": 126,
   "metadata": {
    "collapsed": false,
    "deletable": true,
    "editable": true
   },
   "outputs": [
    {
     "data": {
      "text/plain": [
       "'probabilities = np.zeros((nA))\\nstate_index = X.index(x)\\nQvals = Q[state_index]\\nminQ = np.min(Qvals)\\nmin_indexes = []\\nfor i in range(len(Qvals)):\\n    if Qvals[i] == minQ:\\n        min_indexes += [i]\\n\\nif(len(min_indexes) == nA):\\n    return np.random.choice(actions)\\nelse:  \\n    for i in range(len(Qvals)):\\n        if i in min_indexes:\\n            probabilities[i] = (1 - eps) / len(min_indexes)\\n        else:\\n            probabilities[i] = eps / (nA - len(min_indexes))\\n    return np.random.choice(actions, p=probabilities)\\n   '"
      ]
     },
     "execution_count": 126,
     "metadata": {},
     "output_type": "execute_result"
    }
   ],
   "source": [
    "def epsilon_choice(Q, x, eps=0.1):\n",
    "    actions = [0, 1, 2, 3]\n",
    "    random = np.random.rand()\n",
    "    \n",
    "    state_i = X.index(x)\n",
    "    Qvals = Q[state_i]\n",
    "    \n",
    "    if(random < eps):\n",
    "        return np.random.choice(actions)\n",
    "    \n",
    "    else:\n",
    "        return actions[np.argmin(Qvals)]\n",
    "    \n",
    "    \n",
    "'''probabilities = np.zeros((nA))\n",
    "state_index = X.index(x)\n",
    "Qvals = Q[state_index]\n",
    "minQ = np.min(Qvals)\n",
    "min_indexes = []\n",
    "for i in range(len(Qvals)):\n",
    "    if Qvals[i] == minQ:\n",
    "        min_indexes += [i]\n",
    "\n",
    "if(len(min_indexes) == nA):\n",
    "    return np.random.choice(actions)\n",
    "else:  \n",
    "    for i in range(len(Qvals)):\n",
    "        if i in min_indexes:\n",
    "            probabilities[i] = (1 - eps) / len(min_indexes)\n",
    "        else:\n",
    "            probabilities[i] = eps / (nA - len(min_indexes))\n",
    "    return np.random.choice(actions, p=probabilities)\n",
    "   '''     \n"
   ]
  },
  {
   "cell_type": "markdown",
   "metadata": {
    "collapsed": true,
    "deletable": true,
    "editable": true
   },
   "source": [
    "### 2. Model-based learning\n",
    "\n",
    "You will now run the model-based learning algorithm discussed in class, and evaluate its learning performance."
   ]
  },
  {
   "cell_type": "markdown",
   "metadata": {
    "deletable": true,
    "editable": true
   },
   "source": [
    "---\n",
    "\n",
    "#### Activity 3.        \n",
    "\n",
    "Run the model-based reinforcement learning algorithm discussed in class to compute $Q^*$ for 100,000 iterations. Initialize each transition probability matrix as the identity and the cost function as all-zeros. Use an $\\epsilon$-greedy policy with $\\epsilon=0.1$ (use the function from Activity 2). Note that, at each step,\n",
    "\n",
    "* You will need to select an action according to the $\\epsilon$-greedy policy;\n",
    "* The state and action, you will then compute the cost and generate the next state; \n",
    "* With this transition information (state, action, cost, next-state), you can now perform an update. \n",
    "* When updating the components $(x,a)$ of the model, use the step-size\n",
    "\n",
    "$$\\alpha_t=\\frac{1}{N_t(x,a)+1},$$\n",
    "\n",
    "where $N_t(x,a)$ is the number of visits to the pair $(x,a)$ up to time step $t$.\n",
    "\n",
    "In order to ensure that your algorithm visits every state and action a sufficient number of times, after the boat reaches the goal cell, make one further step, the corresponding update, and then reset the position of the boat to a random state in the environment.\n",
    "\n",
    "Plot the norm $\\|Q^*-Q^{(k)}\\|$ every 500 iterations of your method, where $Q^*$ is the optimal _Q_~function computed in Activity 1.\n",
    "\n",
    "**Note:** The simulation may take a bit. Don't despair.\n",
    "\n",
    "---"
   ]
  },
  {
   "cell_type": "code",
   "execution_count": 127,
   "metadata": {
    "collapsed": false,
    "deletable": true,
    "editable": true,
    "scrolled": true
   },
   "outputs": [
    {
     "name": "stdout",
     "output_type": "stream",
     "text": [
      "[[ 0.  0.  0.  0.]\n",
      " [ 0.  0.  0.  0.]\n",
      " [ 0.  0.  0.  0.]\n",
      " ..., \n",
      " [ 0.  0.  0.  0.]\n",
      " [ 0.  0.  0.  0.]\n",
      " [ 0.  0.  0.  0.]]\n"
     ]
    }
   ],
   "source": [
    "def apply_action(state, action):\n",
    "    if action == 0:\n",
    "        return [max(min(state[0] + 1 - WIND[state[1]], nrows -1), 0), state[1]]\n",
    "    elif action == 1:\n",
    "        return [max(min(state[0] - 1 - WIND[state[1]], nrows -1), 0), state[1]]\n",
    "    elif action == 2:\n",
    "        return [max(min(state[0] - WIND[state[1]], nrows -1), 0), max(min(state[1] - 1, ncols-1),0)]\n",
    "    elif action == 3:\n",
    "        return [max(min(state[0] - WIND[state[1]], nrows -1), 0), max(min(state[1] + 1, ncols-1),0)]\n",
    "\n",
    "Q= np.zeros((nX, nA))\n",
    "Pup = np.eye(nX)\n",
    "Pdown = np.eye(nX)\n",
    "Pleft = np.eye(nX)\n",
    "Pright = np.eye(nX)\n",
    "\n",
    "Prob = {0:Pup, 1:Pdown, 2:Pleft, 3:Pright}\n",
    "cost = np.zeros((nX, nA))\n",
    "visits = np.zeros((nX, nA))\n",
    "\n",
    "state = init\n",
    "for i in range(100000):\n",
    "    action = epsilon_choice(Q, state)\n",
    "    index = X.index(state)\n",
    "    alpha = 1 / (visits[index][action] + 1)\n",
    "    cost[index][action] = cost[index][action] + alpha * (c[index][action] - cost[index][action])\n",
    "    new_state = apply_action(state, action)\n",
    "    new_index = X.index(new_state)\n",
    "    newP = Prob[action][index][new_index] + alpha * (1 - Prob[action][index][new_index])\n",
    "    Prob[action][index] = Prob[action][index] + (alpha * (0 - Prob[action][index]))\n",
    "    Prob[action][index][new_index] = newP\n",
    "    visits[index][action] += 1\n",
    "    Q[index][action] = cost[index][action] + Prob[action][index][new_index] * np.min(Q[new_index])\n",
    "    state = next_state\n",
    "print(Q)"
   ]
  },
  {
   "cell_type": "markdown",
   "metadata": {
    "deletable": true,
    "editable": true
   },
   "source": [
    "### 3. Temporal-difference learning\n",
    "\n",
    "You will now run both Q-learning and SARSA, and compare their learning performance with that of the model-based method just studied."
   ]
  },
  {
   "cell_type": "markdown",
   "metadata": {
    "deletable": true,
    "editable": true
   },
   "source": [
    "---\n",
    "\n",
    "#### Activity 4.        \n",
    "\n",
    "Repeat Activity 3 but using the _Q_-learning algorithm with a learning rate $\\alpha=0.3$.\n",
    "\n",
    "---"
   ]
  },
  {
   "cell_type": "code",
   "execution_count": 128,
   "metadata": {
    "collapsed": false,
    "deletable": true,
    "editable": true,
    "scrolled": false
   },
   "outputs": [
    {
     "name": "stdout",
     "output_type": "stream",
     "text": [
      "[[ 0.          0.          0.          0.        ]\n",
      " [ 0.51        0.          0.          0.        ]\n",
      " [ 1.          0.83193     0.51        0.657     ]\n",
      " ..., \n",
      " [ 0.          0.          0.          0.        ]\n",
      " [ 1.          1.          0.99999999  1.        ]\n",
      " [ 1.          1.          1.          1.        ]]\n"
     ]
    }
   ],
   "source": [
    "Ql = np.zeros((nX, nA))\n",
    "alpha = 0.3\n",
    "state = init\n",
    "for i in range(100000):\n",
    "    state_index = X.index(state)\n",
    "    action = epsilon_choice(Q, state)\n",
    "    next_state = apply_action(state, action)\n",
    "    next_state_index  = X.index(next_state)\n",
    "    Ql[state_index][action] = Ql[state_index][action] + (alpha * (c[state_index][action] + \n",
    "        (gamma * np.min(Q[next_state_index])) - Ql[state_index][action]))\n",
    "    state = next_state\n",
    "print(Ql)"
   ]
  },
  {
   "cell_type": "markdown",
   "metadata": {
    "deletable": true,
    "editable": true
   },
   "source": [
    "---\n",
    "\n",
    "#### Activity 5.\n",
    "\n",
    "Repeat Activity 4 but using the SARSA algorithm.\n",
    "\n",
    "---"
   ]
  },
  {
   "cell_type": "code",
   "execution_count": 129,
   "metadata": {
    "collapsed": false,
    "deletable": true,
    "editable": true
   },
   "outputs": [
    {
     "name": "stdout",
     "output_type": "stream",
     "text": [
      "[[ 0.          0.          0.          0.        ]\n",
      " [ 0.3         0.          0.          0.        ]\n",
      " [ 1.          0.83193     0.3         0.51      ]\n",
      " ..., \n",
      " [ 0.          0.          0.          0.        ]\n",
      " [ 1.          1.          0.99999999  1.        ]\n",
      " [ 1.          1.          1.          1.        ]]\n"
     ]
    }
   ],
   "source": [
    "Ql = np.zeros((nX, nA))\n",
    "alpha = 0.3\n",
    "state = init\n",
    "action = epsilon_choice(Q, state)\n",
    "for i in range(100000):\n",
    "    state_index = X.index(state)\n",
    "    next_state = apply_action(state, action)\n",
    "    next_state_index  = X.index(next_state)\n",
    "    next_action = epsilon_choice(Q, next_state)\n",
    "    Ql[state_index][action] = Ql[state_index][action] + (alpha * (c[state_index][action] + \n",
    "        (gamma * Q[next_state_index][next_action]) - Ql[state_index][action]))\n",
    "    state = next_state\n",
    "    action = next_action\n",
    "print(Ql)"
   ]
  },
  {
   "cell_type": "markdown",
   "metadata": {
    "deletable": true,
    "editable": true
   },
   "source": [
    "---\n",
    "\n",
    "#### Activity 6.\n",
    "\n",
    "Discuss the differences observed between the performance of the three methods.\n",
    "\n",
    "---"
   ]
  },
  {
   "cell_type": "markdown",
   "metadata": {
    "collapsed": false,
    "deletable": true,
    "editable": true
   },
   "source": [
    "_Add your discussion here._"
   ]
  }
 ],
 "metadata": {
  "celltoolbar": "Raw Cell Format",
  "kernelspec": {
   "display_name": "Python 3",
   "language": "python",
   "name": "python3"
  },
  "language_info": {
   "codemirror_mode": {
    "name": "ipython",
    "version": 3
   },
   "file_extension": ".py",
   "mimetype": "text/x-python",
   "name": "python",
   "nbconvert_exporter": "python",
   "pygments_lexer": "ipython3",
   "version": "3.6.0"
  }
 },
 "nbformat": 4,
 "nbformat_minor": 0
}
